{
 "cells": [
  {
   "cell_type": "markdown",
   "id": "15a8070d",
   "metadata": {},
   "source": [
    "# Problem 1 :\n",
    "\n",
    "**Detect Floating Point Number**"
   ]
  },
  {
   "cell_type": "code",
   "execution_count": null,
   "id": "b8362b6d",
   "metadata": {},
   "outputs": [],
   "source": [
    "import re\n",
    "\n",
    "# Number of Tests\n",
    "tests = int(input())\n",
    "\n",
    "regex = re.compile(r\"^[+-]?[0-9]*\\.[0-9]+$\")\n",
    "\n",
    "for test in range(tests):\n",
    "    value = input()\n",
    "    if regex.match(value):\n",
    "        print(\"True\")\n",
    "    else:\n",
    "        print(\"False\")"
   ]
  },
  {
   "cell_type": "markdown",
   "id": "fda3f28f",
   "metadata": {},
   "source": [
    "# Problem 2 :\n",
    "\n",
    "**Re.split**"
   ]
  },
  {
   "cell_type": "code",
   "execution_count": null,
   "id": "a64c439e",
   "metadata": {},
   "outputs": [],
   "source": [
    "regex_pattern = r\"[.,]+\" # Do not delete 'r'.\n",
    "\n",
    "\n",
    "import re\n",
    "print(\"\\n\".join(re.split(regex_pattern, input())))"
   ]
  },
  {
   "cell_type": "markdown",
   "id": "c973b0e3",
   "metadata": {},
   "source": [
    "# Problem 3 :\n",
    "\n",
    "**Group(), Groups() & Groupdict()**"
   ]
  },
  {
   "cell_type": "code",
   "execution_count": null,
   "id": "07971cf7",
   "metadata": {},
   "outputs": [],
   "source": [
    "import re\n",
    "\n",
    "expr = r\"([a-zA-Z0-9])\\1\"\n",
    "y =  re.search(expr, input())\n",
    "if y:\n",
    "    print(y.group(1))\n",
    "else:\n",
    "    print(-1)"
   ]
  },
  {
   "cell_type": "markdown",
   "id": "f3465f7e",
   "metadata": {},
   "source": [
    "# Problem 4 :\n",
    "\n",
    "**Re.findall() & Re.finditer()**"
   ]
  },
  {
   "cell_type": "code",
   "execution_count": null,
   "id": "2d714218",
   "metadata": {},
   "outputs": [],
   "source": [
    "import re\n",
    "cons, vows = \"qwrtypsdfghjklzxcvbnm\", \"aeiou\"\n",
    "reg = re.compile(rf\"(?<=[{cons}])([{vows}]{{2,}})(?=[{cons}])\", re.I)\n",
    "\n",
    "if output:= reg.findall(input()):\n",
    "    print(*output, sep=\"\\n\")\n",
    "else:\n",
    "    print(-1)"
   ]
  },
  {
   "cell_type": "markdown",
   "id": "b48aae69",
   "metadata": {},
   "source": [
    "# Problem 5 :\n",
    "\n",
    "**Re.start() & Re.end()**"
   ]
  },
  {
   "cell_type": "code",
   "execution_count": null,
   "id": "9bbf5133",
   "metadata": {},
   "outputs": [],
   "source": [
    "import re\n",
    "s=input()\n",
    "k=input()\n",
    "if s.find(k) == -1:\n",
    "    print((-1,-1))\n",
    "else:    \n",
    "    for i in range(len(s)-len(k)+1):\n",
    "        if s[i:i+len(k)]==k:\n",
    "            print((i,i+len(k)-1))"
   ]
  },
  {
   "cell_type": "markdown",
   "id": "d2755b6d",
   "metadata": {},
   "source": [
    "# Problem 6 :\n",
    "\n",
    "**Regex Substitution**"
   ]
  },
  {
   "cell_type": "code",
   "execution_count": null,
   "id": "39a5bc49",
   "metadata": {},
   "outputs": [],
   "source": [
    "import re\n",
    "\n",
    "for i in range(int(input())):\n",
    "    S = str(input())\n",
    "    S = re.sub(\"(?<=[ ])\\&\\&(?=[ ])\", \"and\", S)\n",
    "    S = re.sub(\"(?<=[ ])\\|\\|(?=[ ])\", \"or\", S)\n",
    "    print(S)"
   ]
  },
  {
   "cell_type": "markdown",
   "id": "ef388515",
   "metadata": {},
   "source": [
    "# Problem 7 :\n",
    "\n",
    "**Validating Roman Numerals**"
   ]
  },
  {
   "cell_type": "code",
   "execution_count": null,
   "id": "28509e70",
   "metadata": {},
   "outputs": [],
   "source": [
    "regex_pattern = r\"^(?=[MDCLXVI])M{0,3}(C[MD]|D?C{0,3})(X[CL]|L?X{0,3})(I[XV]|V?I{0,3})$\"\n",
    "\n",
    "import re\n",
    "print(str(bool(re.match(regex_pattern, input()))))"
   ]
  },
  {
   "cell_type": "markdown",
   "id": "bf345aca",
   "metadata": {},
   "source": [
    "# Problem 8 :\n",
    "\n",
    "**Validating phone numbers**"
   ]
  },
  {
   "cell_type": "code",
   "execution_count": null,
   "id": "a2de1fac",
   "metadata": {},
   "outputs": [],
   "source": [
    "import re\n",
    "\n",
    "count = int(input())\n",
    "phone_numbers = []\n",
    "\n",
    "for i in range(count):\n",
    "    phone_numbers.append(input())\n",
    "\n",
    "for i in range(len(phone_numbers)):\n",
    "    match = re.search(r'^[7-9][0-9]{9}$', phone_numbers[i])\n",
    "    if match:\n",
    "        print('YES')\n",
    "    else:\n",
    "        print('NO')"
   ]
  },
  {
   "cell_type": "markdown",
   "id": "86ed11d7",
   "metadata": {},
   "source": [
    "# Problem 9 :\n",
    "\n",
    "**Validating and Parsing Email Addresses**"
   ]
  },
  {
   "cell_type": "code",
   "execution_count": null,
   "id": "49f4cec9",
   "metadata": {},
   "outputs": [],
   "source": [
    "import re\n",
    "\n",
    "for i in range(int(input())):\n",
    "\n",
    "    a,b=input().split()\n",
    "\n",
    "    r=bool(re.search(r\"^([a-z]+[a-z0-9-_.]*)@([a-z]+)\\.([a-z]{1,3})$\",b[1:len(b)-1]))\n",
    "\n",
    "    if(r):\n",
    "        print(a,b)"
   ]
  },
  {
   "cell_type": "markdown",
   "id": "03f0e245",
   "metadata": {},
   "source": [
    "# Problem 10 :\n",
    "\n",
    "**Hex Color Code**"
   ]
  },
  {
   "cell_type": "code",
   "execution_count": null,
   "id": "e617ad90",
   "metadata": {},
   "outputs": [],
   "source": [
    "import re\n",
    "\n",
    "expression = \".#[0-9A-Fa-f]{3,6}\"\n",
    "\n",
    "for i in range(int(input())):\n",
    "    inpt = re.findall(expression, input())\n",
    "    \n",
    "    if inpt:\n",
    "        for j in inpt:\n",
    "            print(j[1:])"
   ]
  },
  {
   "cell_type": "markdown",
   "id": "b01270d8",
   "metadata": {},
   "source": [
    "# Problem 11 :\n",
    "\n",
    "**Detect HTML Tags, Attributes and Attribute Values**"
   ]
  },
  {
   "cell_type": "code",
   "execution_count": null,
   "id": "525407a0",
   "metadata": {},
   "outputs": [],
   "source": [
    "from html.parser import HTMLParser\n",
    "class CustomHtmlParser(HTMLParser):\n",
    "    def handle_starttag(self, tag, attrs):\n",
    "        print(tag)\n",
    "        for ele in attrs:\n",
    "            print(\"->\", ele[0], \">\", ele[1])\n",
    "\n",
    "\n",
    "parser = CustomHtmlParser()\n",
    "for i in range(int(input())):\n",
    "    parser.feed(input())"
   ]
  },
  {
   "cell_type": "markdown",
   "id": "dc1e0386",
   "metadata": {},
   "source": [
    "# Problem 12 :\n",
    "\n",
    "**Validating UID**"
   ]
  },
  {
   "cell_type": "code",
   "execution_count": null,
   "id": "64876d5f",
   "metadata": {},
   "outputs": [],
   "source": [
    "import re\n",
    "\n",
    "regex = [r\"^.*?([A-Z].*?){2,}.*$\", r\".*?(\\d.*?){3,}.*\", r\"^\\w+$\", r\"^(?:(.)(?!.*\\1))+$\", r\".{10}\"]\n",
    "for i in range(int(input())):\n",
    "    text = input()\n",
    "    check = [bool(re.match(i, text)) for i in regex]\n",
    "    print(\"Valid\" if all(check) else \"Invalid\")"
   ]
  },
  {
   "cell_type": "markdown",
   "id": "a55ed28f",
   "metadata": {},
   "source": [
    "# Problem 13 :\n",
    "\n",
    "**Validating Credit Card Numbers**"
   ]
  },
  {
   "cell_type": "code",
   "execution_count": null,
   "id": "8911dd7a",
   "metadata": {},
   "outputs": [],
   "source": [
    "import re, sys\n",
    "\n",
    "regstr = r'''(?=^[456])\n",
    "        (?!^.*(?P<rep>\\d)-?(?P=rep)-?(?P=rep)-?(?P=rep).*$)\n",
    "        \\d{4}(?P<sep>-?)\\d{4}(?P=sep)\\d{4}(?P=sep)\\d{4}$\n",
    "    '''\n",
    "regex = re.compile(regstr, flags=re.X)\n",
    "for _, numbers in zip(range(int(input())), sys.stdin):\n",
    "    print('Valid' if regex.match(numbers.strip()) else 'Invalid')"
   ]
  },
  {
   "cell_type": "markdown",
   "id": "d646917a",
   "metadata": {},
   "source": [
    "# Problem 14 :\n",
    "\n",
    "**Validating Postal Codes**"
   ]
  },
  {
   "cell_type": "code",
   "execution_count": null,
   "id": "b4c668e0",
   "metadata": {},
   "outputs": [],
   "source": [
    "regex_integer_in_range = r\"\\b[1-9][0-9]{5}\\b\"   \n",
    "regex_alternating_repetitive_digit_pair = r\"([0-9])(?=[0-9]\\1)\"    \n",
    "\n",
    "\n",
    "import re\n",
    "P = input()\n",
    "\n",
    "print (bool(re.match(regex_integer_in_range, P)) \n",
    "and len(re.findall(regex_alternating_repetitive_digit_pair, P)) < 2)"
   ]
  },
  {
   "cell_type": "markdown",
   "id": "d1d761e0",
   "metadata": {},
   "source": [
    "# Problem 15 :\n",
    "\n",
    "**Matrix Script**"
   ]
  },
  {
   "cell_type": "code",
   "execution_count": null,
   "id": "a240e1fc",
   "metadata": {},
   "outputs": [],
   "source": [
    "import re\n",
    "\n",
    "matrix = [input() for _ in range(int(input().split()[0]))]\n",
    "print(re.sub(r\"(?<=\\w)(\\W+)(?=\\w)\", \" \", \n",
    "    \"\".join([c for col in zip(*matrix) for c in col])))"
   ]
  }
 ],
 "metadata": {
  "kernelspec": {
   "display_name": "Python 3 (ipykernel)",
   "language": "python",
   "name": "python3"
  },
  "language_info": {
   "codemirror_mode": {
    "name": "ipython",
    "version": 3
   },
   "file_extension": ".py",
   "mimetype": "text/x-python",
   "name": "python",
   "nbconvert_exporter": "python",
   "pygments_lexer": "ipython3",
   "version": "3.9.13"
  }
 },
 "nbformat": 4,
 "nbformat_minor": 5
}
